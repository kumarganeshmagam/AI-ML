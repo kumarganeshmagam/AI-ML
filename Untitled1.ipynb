{
 "cells": [
  {
   "cell_type": "code",
   "execution_count": 11,
   "id": "cf1e763a",
   "metadata": {},
   "outputs": [
    {
     "name": "stdout",
     "output_type": "stream",
     "text": [
      "Choose a category for prediction (weight, length, hw): hw\n",
      "Enter the height of the fish: 8.9\n",
      "Enter the width of the fish: 6.1\n",
      "Predicted species: Pike\n"
     ]
    },
    {
     "name": "stderr",
     "output_type": "stream",
     "text": [
      "C:\\Users\\kumar\\anaconda3\\Lib\\site-packages\\sklearn\\base.py:464: UserWarning: X does not have valid feature names, but DecisionTreeClassifier was fitted with feature names\n",
      "  warnings.warn(\n"
     ]
    }
   ],
   "source": [
    "from sklearn.tree import DecisionTreeClassifier\n",
    "# Load the trained model\n",
    "import joblib\n",
    "\n",
    "# Load the trained model\n",
    "model_weight = joblib.load(\"decision_tree_weight.pkl\")  # Replace \"trained_model.pkl\" with the path to your trained model file\n",
    "model_length = joblib.load(\"decision_tree_length.pkl\")\n",
    "model_hw = joblib.load(\"decision_tree_hw.pkl\")\n",
    "# Function to predict species based on input weight\n",
    "def predict_species(weight):\n",
    "    # Reshape the input weight to match the model's input format\n",
    "    weight_array = np.array([weight]).reshape(1, -1)\n",
    "    # Make prediction\n",
    "    predicted_species = model_weight.predict(weight_array)[0]\n",
    "    # Map the predicted index to species name\n",
    "    return predicted_species\n",
    "\n",
    "# Function to predict species based on input length\n",
    "def predict_species_length(length1, length2, length3):\n",
    "    # Reshape the input data to match the model's input format\n",
    "    length_data = np.array([[length1, length2, length3]])\n",
    "    # Make prediction\n",
    "    predicted_species_length = model_length.predict(length_data)[0]\n",
    "    # Return the predicted species\n",
    "    return predicted_species_length\n",
    "\n",
    "# Function to predict species based on height and width\n",
    "def predict_species_hw(height, width):\n",
    "    # Reshape the input height and width to match the model's input format\n",
    "    hw_data = np.array([[height, width]])\n",
    "    # Make prediction\n",
    "    predicted_species = model_hw.predict(hw_data)[0]\n",
    "    # Map the predicted index to species name\n",
    "    return predicted_species\n",
    "\n",
    "# Main function\n",
    "def main():\n",
    "    # Get input from user\n",
    "    category = input(\"Choose a category for prediction (weight, length, hw): \").lower()\n",
    "    if category == 'weight':\n",
    "        weight = float(input(\"Enter the weight of the fish: \"))\n",
    "        predicted_species = predict_species_weight(weight)\n",
    "    elif category == 'length':\n",
    "        length1 = float(input(\"Enter the length1 of the fish: \"))\n",
    "        length2 = float(input(\"Enter the length2 of the fish: \"))\n",
    "        length3 = float(input(\"Enter the length3 of the fish: \"))\n",
    "        predicted_species = predict_species_length(length1, length2, length3)\n",
    "    elif category == 'hw':\n",
    "        height = float(input(\"Enter the height of the fish: \"))\n",
    "        width = float(input(\"Enter the width of the fish: \"))\n",
    "        predicted_species = predict_species_hw(height, width)\n",
    "    else:\n",
    "        print(\"Invalid category selected. Please choose 'weight', 'length', or 'hw'.\")\n",
    "        return\n",
    "    # Print the predicted species\n",
    "    print(\"Predicted species:\", predicted_species)\n",
    "\n",
    "if __name__ == \"__main__\":\n",
    "    main()"
   ]
  },
  {
   "cell_type": "code",
   "execution_count": null,
   "id": "0ae28d65",
   "metadata": {},
   "outputs": [],
   "source": []
  }
 ],
 "metadata": {
  "kernelspec": {
   "display_name": "Python 3 (ipykernel)",
   "language": "python",
   "name": "python3"
  },
  "language_info": {
   "codemirror_mode": {
    "name": "ipython",
    "version": 3
   },
   "file_extension": ".py",
   "mimetype": "text/x-python",
   "name": "python",
   "nbconvert_exporter": "python",
   "pygments_lexer": "ipython3",
   "version": "3.11.5"
  }
 },
 "nbformat": 4,
 "nbformat_minor": 5
}
