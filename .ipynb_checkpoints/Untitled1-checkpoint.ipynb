{
 "cells": [
  {
   "cell_type": "code",
   "execution_count": 6,
   "id": "8fb45918",
   "metadata": {},
   "outputs": [
    {
     "name": "stdout",
     "output_type": "stream",
     "text": [
      "Enter the weight of the fish: 242\n"
     ]
    },
    {
     "ename": "NameError",
     "evalue": "name 'model_weigth' is not defined",
     "output_type": "error",
     "traceback": [
      "\u001b[1;31m---------------------------------------------------------------------------\u001b[0m",
      "\u001b[1;31mNameError\u001b[0m                                 Traceback (most recent call last)",
      "Cell \u001b[1;32mIn[6], line 28\u001b[0m\n\u001b[0;32m     25\u001b[0m     \u001b[38;5;28mprint\u001b[39m(\u001b[38;5;124m\"\u001b[39m\u001b[38;5;124mPredicted species:\u001b[39m\u001b[38;5;124m\"\u001b[39m, predicted_species)\n\u001b[0;32m     27\u001b[0m \u001b[38;5;28;01mif\u001b[39;00m \u001b[38;5;18m__name__\u001b[39m \u001b[38;5;241m==\u001b[39m \u001b[38;5;124m\"\u001b[39m\u001b[38;5;124m__main__\u001b[39m\u001b[38;5;124m\"\u001b[39m:\n\u001b[1;32m---> 28\u001b[0m     main()\n",
      "Cell \u001b[1;32mIn[6], line 23\u001b[0m, in \u001b[0;36mmain\u001b[1;34m()\u001b[0m\n\u001b[0;32m     21\u001b[0m weight \u001b[38;5;241m=\u001b[39m \u001b[38;5;28mfloat\u001b[39m(\u001b[38;5;28minput\u001b[39m(\u001b[38;5;124m\"\u001b[39m\u001b[38;5;124mEnter the weight of the fish: \u001b[39m\u001b[38;5;124m\"\u001b[39m))\n\u001b[0;32m     22\u001b[0m \u001b[38;5;66;03m# Predict species\u001b[39;00m\n\u001b[1;32m---> 23\u001b[0m predicted_species \u001b[38;5;241m=\u001b[39m predict_species(weight)\n\u001b[0;32m     24\u001b[0m \u001b[38;5;66;03m# Print the predicted species\u001b[39;00m\n\u001b[0;32m     25\u001b[0m \u001b[38;5;28mprint\u001b[39m(\u001b[38;5;124m\"\u001b[39m\u001b[38;5;124mPredicted species:\u001b[39m\u001b[38;5;124m\"\u001b[39m, predicted_species)\n",
      "Cell \u001b[1;32mIn[6], line 14\u001b[0m, in \u001b[0;36mpredict_species\u001b[1;34m(weight)\u001b[0m\n\u001b[0;32m     12\u001b[0m weight_array \u001b[38;5;241m=\u001b[39m np\u001b[38;5;241m.\u001b[39marray([weight])\u001b[38;5;241m.\u001b[39mreshape(\u001b[38;5;241m1\u001b[39m, \u001b[38;5;241m-\u001b[39m\u001b[38;5;241m1\u001b[39m)\n\u001b[0;32m     13\u001b[0m \u001b[38;5;66;03m# Make prediction\u001b[39;00m\n\u001b[1;32m---> 14\u001b[0m predicted_species \u001b[38;5;241m=\u001b[39m model_weigth\u001b[38;5;241m.\u001b[39mpredict(weight_array)[\u001b[38;5;241m0\u001b[39m]\n\u001b[0;32m     15\u001b[0m \u001b[38;5;66;03m# Map the predicted index to species name\u001b[39;00m\n\u001b[0;32m     16\u001b[0m \u001b[38;5;28;01mreturn\u001b[39;00m predicted_species\n",
      "\u001b[1;31mNameError\u001b[0m: name 'model_weigth' is not defined"
     ]
    }
   ],
   "source": [
    "from sklearn.tree import DecisionTreeClassifier\n",
    "# Load the trained model\n",
    "import joblib\n",
    "\n",
    "# Load the trained model\n",
    "model_weight = joblib.load(\"decision_tree_weight.pkl\")  # Replace \"trained_model.pkl\" with the path to your trained model file\n",
    "model_length = joblib.load(\"decision_tree_length.pkl\")\n",
    "model_hw = joblib.load(\"decision_tree_hw.pkl\")\n",
    "# Function to predict species based on input weight\n",
    "def predict_species(weight):\n",
    "    # Reshape the input weight to match the model's input format\n",
    "    weight_array = np.array([weight]).reshape(1, -1)\n",
    "    # Make prediction\n",
    "    predicted_species = model_weight.predict(weight_array)[0]\n",
    "    # Map the predicted index to species name\n",
    "    return predicted_species\n",
    "\n",
    "# Main function\n",
    "def main():\n",
    "    # Get input from user\n",
    "    weight = float(input(\"Enter the weight of the fish: \"))\n",
    "    # Predict species\n",
    "    predicted_species = predict_species(weight)\n",
    "    # Print the predicted species\n",
    "    print(\"Predicted species:\", predicted_species)\n",
    "\n",
    "if __name__ == \"__main__\":\n",
    "    main()"
   ]
  },
  {
   "cell_type": "code",
   "execution_count": null,
   "id": "00bb186f",
   "metadata": {},
   "outputs": [],
   "source": []
  }
 ],
 "metadata": {
  "kernelspec": {
   "display_name": "Python 3 (ipykernel)",
   "language": "python",
   "name": "python3"
  },
  "language_info": {
   "codemirror_mode": {
    "name": "ipython",
    "version": 3
   },
   "file_extension": ".py",
   "mimetype": "text/x-python",
   "name": "python",
   "nbconvert_exporter": "python",
   "pygments_lexer": "ipython3",
   "version": "3.11.5"
  }
 },
 "nbformat": 4,
 "nbformat_minor": 5
}
